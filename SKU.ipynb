{
 "cells": [
  {
   "cell_type": "code",
   "execution_count": 42,
   "metadata": {},
   "outputs": [],
   "source": [
    "import pandas as pd\n",
    "import numpy as np\n",
    "import datetime\n",
    "import matplotlib    \n",
    "import matplotlib.pyplot as plt\n",
    "import seaborn as sns"
   ]
  },
  {
   "cell_type": "code",
   "execution_count": 27,
   "metadata": {},
   "outputs": [],
   "source": [
    "data = pd.read_excel('sku.xlsx')\n",
    "data2=data.copy()\n",
    "data2=data2.drop(\"SKU\", axis=1)\n",
    "\n",
    "#Changing datetime to Year-Month through mapping\n",
    "mapper = lambda x: x.strftime(\"%Y-%m\")\n",
    "data2.columns=data2.columns.map(mapper)"
   ]
  },
  {
   "cell_type": "markdown",
   "metadata": {},
   "source": [
    "# 1) What is the monthly & quaterly sales data by SKU?"
   ]
  },
  {
   "cell_type": "code",
   "execution_count": 28,
   "metadata": {},
   "outputs": [
    {
     "data": {
      "text/html": [
       "<div>\n",
       "<style scoped>\n",
       "    .dataframe tbody tr th:only-of-type {\n",
       "        vertical-align: middle;\n",
       "    }\n",
       "\n",
       "    .dataframe tbody tr th {\n",
       "        vertical-align: top;\n",
       "    }\n",
       "\n",
       "    .dataframe thead th {\n",
       "        text-align: right;\n",
       "    }\n",
       "</style>\n",
       "<table border=\"1\" class=\"dataframe\">\n",
       "  <thead>\n",
       "    <tr style=\"text-align: right;\">\n",
       "      <th></th>\n",
       "      <th>2019-08</th>\n",
       "      <th>2019-09</th>\n",
       "      <th>2019-10</th>\n",
       "      <th>2019-11</th>\n",
       "      <th>2019-12</th>\n",
       "      <th>2020-01</th>\n",
       "      <th>2020-02</th>\n",
       "      <th>2020-03</th>\n",
       "      <th>2020-04</th>\n",
       "      <th>2020-05</th>\n",
       "      <th>2020-06</th>\n",
       "      <th>2020-07</th>\n",
       "    </tr>\n",
       "  </thead>\n",
       "  <tbody>\n",
       "    <tr>\n",
       "      <th>0</th>\n",
       "      <td>41702</td>\n",
       "      <td>36880</td>\n",
       "      <td>30582</td>\n",
       "      <td>21916</td>\n",
       "      <td>23804</td>\n",
       "      <td>21853</td>\n",
       "      <td>23170</td>\n",
       "      <td>30956</td>\n",
       "      <td>38202</td>\n",
       "      <td>44347</td>\n",
       "      <td>49341</td>\n",
       "      <td>55826</td>\n",
       "    </tr>\n",
       "    <tr>\n",
       "      <th>1</th>\n",
       "      <td>69451</td>\n",
       "      <td>62415</td>\n",
       "      <td>71082</td>\n",
       "      <td>83246</td>\n",
       "      <td>87899</td>\n",
       "      <td>79546</td>\n",
       "      <td>78095</td>\n",
       "      <td>92606</td>\n",
       "      <td>120947</td>\n",
       "      <td>135342</td>\n",
       "      <td>157482</td>\n",
       "      <td>196062</td>\n",
       "    </tr>\n",
       "    <tr>\n",
       "      <th>2</th>\n",
       "      <td>27412</td>\n",
       "      <td>31687</td>\n",
       "      <td>33122</td>\n",
       "      <td>28937</td>\n",
       "      <td>33444</td>\n",
       "      <td>35670</td>\n",
       "      <td>32029</td>\n",
       "      <td>30827</td>\n",
       "      <td>25062</td>\n",
       "      <td>22231</td>\n",
       "      <td>24184</td>\n",
       "      <td>26153</td>\n",
       "    </tr>\n",
       "    <tr>\n",
       "      <th>3</th>\n",
       "      <td>46443</td>\n",
       "      <td>41922</td>\n",
       "      <td>45421</td>\n",
       "      <td>55371</td>\n",
       "      <td>72253</td>\n",
       "      <td>75218</td>\n",
       "      <td>61235</td>\n",
       "      <td>72241</td>\n",
       "      <td>67543</td>\n",
       "      <td>57518</td>\n",
       "      <td>53480</td>\n",
       "      <td>54253</td>\n",
       "    </tr>\n",
       "    <tr>\n",
       "      <th>4</th>\n",
       "      <td>10720</td>\n",
       "      <td>10306</td>\n",
       "      <td>11966</td>\n",
       "      <td>13094</td>\n",
       "      <td>13848</td>\n",
       "      <td>13990</td>\n",
       "      <td>10517</td>\n",
       "      <td>9587</td>\n",
       "      <td>12110</td>\n",
       "      <td>9838</td>\n",
       "      <td>9076</td>\n",
       "      <td>10182</td>\n",
       "    </tr>\n",
       "  </tbody>\n",
       "</table>\n",
       "</div>"
      ],
      "text/plain": [
       "   2019-08  2019-09  2019-10  2019-11  2019-12  2020-01  2020-02  2020-03  \\\n",
       "0    41702    36880    30582    21916    23804    21853    23170    30956   \n",
       "1    69451    62415    71082    83246    87899    79546    78095    92606   \n",
       "2    27412    31687    33122    28937    33444    35670    32029    30827   \n",
       "3    46443    41922    45421    55371    72253    75218    61235    72241   \n",
       "4    10720    10306    11966    13094    13848    13990    10517     9587   \n",
       "\n",
       "   2020-04  2020-05  2020-06  2020-07  \n",
       "0    38202    44347    49341    55826  \n",
       "1   120947   135342   157482   196062  \n",
       "2    25062    22231    24184    26153  \n",
       "3    67543    57518    53480    54253  \n",
       "4    12110     9838     9076    10182  "
      ]
     },
     "execution_count": 28,
     "metadata": {},
     "output_type": "execute_result"
    }
   ],
   "source": [
    "# Month wise sales\n",
    "x=data2.groupby(by=data2.columns,axis=1).sum()\n",
    "x.head()"
   ]
  },
  {
   "cell_type": "code",
   "execution_count": 29,
   "metadata": {},
   "outputs": [
    {
     "data": {
      "text/html": [
       "<div>\n",
       "<style scoped>\n",
       "    .dataframe tbody tr th:only-of-type {\n",
       "        vertical-align: middle;\n",
       "    }\n",
       "\n",
       "    .dataframe tbody tr th {\n",
       "        vertical-align: top;\n",
       "    }\n",
       "\n",
       "    .dataframe thead th {\n",
       "        text-align: right;\n",
       "    }\n",
       "</style>\n",
       "<table border=\"1\" class=\"dataframe\">\n",
       "  <thead>\n",
       "    <tr style=\"text-align: right;\">\n",
       "      <th></th>\n",
       "      <th>2019Q3</th>\n",
       "      <th>2019Q4</th>\n",
       "      <th>2020Q1</th>\n",
       "      <th>2020Q2</th>\n",
       "      <th>2020Q3</th>\n",
       "    </tr>\n",
       "  </thead>\n",
       "  <tbody>\n",
       "    <tr>\n",
       "      <th>0</th>\n",
       "      <td>39291.0</td>\n",
       "      <td>25434.000000</td>\n",
       "      <td>25326.333333</td>\n",
       "      <td>43963.333333</td>\n",
       "      <td>55826.0</td>\n",
       "    </tr>\n",
       "    <tr>\n",
       "      <th>1</th>\n",
       "      <td>65933.0</td>\n",
       "      <td>80742.333333</td>\n",
       "      <td>83415.666667</td>\n",
       "      <td>137923.666667</td>\n",
       "      <td>196062.0</td>\n",
       "    </tr>\n",
       "    <tr>\n",
       "      <th>2</th>\n",
       "      <td>29549.5</td>\n",
       "      <td>31834.333333</td>\n",
       "      <td>32842.000000</td>\n",
       "      <td>23825.666667</td>\n",
       "      <td>26153.0</td>\n",
       "    </tr>\n",
       "    <tr>\n",
       "      <th>3</th>\n",
       "      <td>44182.5</td>\n",
       "      <td>57681.666667</td>\n",
       "      <td>69564.666667</td>\n",
       "      <td>59513.666667</td>\n",
       "      <td>54253.0</td>\n",
       "    </tr>\n",
       "    <tr>\n",
       "      <th>4</th>\n",
       "      <td>10513.0</td>\n",
       "      <td>12969.333333</td>\n",
       "      <td>11364.666667</td>\n",
       "      <td>10341.333333</td>\n",
       "      <td>10182.0</td>\n",
       "    </tr>\n",
       "  </tbody>\n",
       "</table>\n",
       "</div>"
      ],
      "text/plain": [
       "    2019Q3        2019Q4        2020Q1         2020Q2    2020Q3\n",
       "0  39291.0  25434.000000  25326.333333   43963.333333   55826.0\n",
       "1  65933.0  80742.333333  83415.666667  137923.666667  196062.0\n",
       "2  29549.5  31834.333333  32842.000000   23825.666667   26153.0\n",
       "3  44182.5  57681.666667  69564.666667   59513.666667   54253.0\n",
       "4  10513.0  12969.333333  11364.666667   10341.333333   10182.0"
      ]
     },
     "execution_count": 29,
     "metadata": {},
     "output_type": "execute_result"
    }
   ],
   "source": [
    "# Quarter wise sales\n",
    "y=x.groupby(pd.PeriodIndex(x.columns, freq='Q'), axis=1).mean()\n",
    "y.head()"
   ]
  },
  {
   "cell_type": "code",
   "execution_count": 30,
   "metadata": {},
   "outputs": [
    {
     "data": {
      "text/html": [
       "<div>\n",
       "<style scoped>\n",
       "    .dataframe tbody tr th:only-of-type {\n",
       "        vertical-align: middle;\n",
       "    }\n",
       "\n",
       "    .dataframe tbody tr th {\n",
       "        vertical-align: top;\n",
       "    }\n",
       "\n",
       "    .dataframe thead th {\n",
       "        text-align: right;\n",
       "    }\n",
       "</style>\n",
       "<table border=\"1\" class=\"dataframe\">\n",
       "  <thead>\n",
       "    <tr style=\"text-align: right;\">\n",
       "      <th></th>\n",
       "      <th>SKU</th>\n",
       "      <th>2019-08</th>\n",
       "      <th>2019-09</th>\n",
       "      <th>2019-10</th>\n",
       "      <th>2019-11</th>\n",
       "      <th>2019-12</th>\n",
       "      <th>2020-01</th>\n",
       "      <th>2020-02</th>\n",
       "      <th>2020-03</th>\n",
       "      <th>2020-04</th>\n",
       "      <th>2020-05</th>\n",
       "      <th>2020-06</th>\n",
       "      <th>2020-07</th>\n",
       "      <th>Total_sales</th>\n",
       "      <th>Monthly_average</th>\n",
       "    </tr>\n",
       "  </thead>\n",
       "  <tbody>\n",
       "    <tr>\n",
       "      <th>0</th>\n",
       "      <td>2527</td>\n",
       "      <td>41702</td>\n",
       "      <td>36880</td>\n",
       "      <td>30582</td>\n",
       "      <td>21916</td>\n",
       "      <td>23804</td>\n",
       "      <td>21853</td>\n",
       "      <td>23170</td>\n",
       "      <td>30956</td>\n",
       "      <td>38202</td>\n",
       "      <td>44347</td>\n",
       "      <td>49341</td>\n",
       "      <td>55826</td>\n",
       "      <td>418579</td>\n",
       "      <td>34881.583333</td>\n",
       "    </tr>\n",
       "    <tr>\n",
       "      <th>1</th>\n",
       "      <td>3042</td>\n",
       "      <td>69451</td>\n",
       "      <td>62415</td>\n",
       "      <td>71082</td>\n",
       "      <td>83246</td>\n",
       "      <td>87899</td>\n",
       "      <td>79546</td>\n",
       "      <td>78095</td>\n",
       "      <td>92606</td>\n",
       "      <td>120947</td>\n",
       "      <td>135342</td>\n",
       "      <td>157482</td>\n",
       "      <td>196062</td>\n",
       "      <td>1234173</td>\n",
       "      <td>102847.750000</td>\n",
       "    </tr>\n",
       "    <tr>\n",
       "      <th>2</th>\n",
       "      <td>3086</td>\n",
       "      <td>27412</td>\n",
       "      <td>31687</td>\n",
       "      <td>33122</td>\n",
       "      <td>28937</td>\n",
       "      <td>33444</td>\n",
       "      <td>35670</td>\n",
       "      <td>32029</td>\n",
       "      <td>30827</td>\n",
       "      <td>25062</td>\n",
       "      <td>22231</td>\n",
       "      <td>24184</td>\n",
       "      <td>26153</td>\n",
       "      <td>350758</td>\n",
       "      <td>29229.833333</td>\n",
       "    </tr>\n",
       "    <tr>\n",
       "      <th>3</th>\n",
       "      <td>3155</td>\n",
       "      <td>46443</td>\n",
       "      <td>41922</td>\n",
       "      <td>45421</td>\n",
       "      <td>55371</td>\n",
       "      <td>72253</td>\n",
       "      <td>75218</td>\n",
       "      <td>61235</td>\n",
       "      <td>72241</td>\n",
       "      <td>67543</td>\n",
       "      <td>57518</td>\n",
       "      <td>53480</td>\n",
       "      <td>54253</td>\n",
       "      <td>702898</td>\n",
       "      <td>58574.833333</td>\n",
       "    </tr>\n",
       "    <tr>\n",
       "      <th>4</th>\n",
       "      <td>3166</td>\n",
       "      <td>10720</td>\n",
       "      <td>10306</td>\n",
       "      <td>11966</td>\n",
       "      <td>13094</td>\n",
       "      <td>13848</td>\n",
       "      <td>13990</td>\n",
       "      <td>10517</td>\n",
       "      <td>9587</td>\n",
       "      <td>12110</td>\n",
       "      <td>9838</td>\n",
       "      <td>9076</td>\n",
       "      <td>10182</td>\n",
       "      <td>135234</td>\n",
       "      <td>11269.500000</td>\n",
       "    </tr>\n",
       "  </tbody>\n",
       "</table>\n",
       "</div>"
      ],
      "text/plain": [
       "    SKU  2019-08  2019-09  2019-10  2019-11  2019-12  2020-01  2020-02  \\\n",
       "0  2527    41702    36880    30582    21916    23804    21853    23170   \n",
       "1  3042    69451    62415    71082    83246    87899    79546    78095   \n",
       "2  3086    27412    31687    33122    28937    33444    35670    32029   \n",
       "3  3155    46443    41922    45421    55371    72253    75218    61235   \n",
       "4  3166    10720    10306    11966    13094    13848    13990    10517   \n",
       "\n",
       "   2020-03  2020-04  2020-05  2020-06  2020-07  Total_sales  Monthly_average  \n",
       "0    30956    38202    44347    49341    55826       418579     34881.583333  \n",
       "1    92606   120947   135342   157482   196062      1234173    102847.750000  \n",
       "2    30827    25062    22231    24184    26153       350758     29229.833333  \n",
       "3    72241    67543    57518    53480    54253       702898     58574.833333  \n",
       "4     9587    12110     9838     9076    10182       135234     11269.500000  "
      ]
     },
     "execution_count": 30,
     "metadata": {},
     "output_type": "execute_result"
    }
   ],
   "source": [
    "# Monthly average by SKU\n",
    "\n",
    "x.insert(0, \"SKU\", data['SKU'])\n",
    "x['Total_sales'] = data2.sum(axis=1)\n",
    "x[\"Monthly_average\"]=x['Total_sales']/12\n",
    "x.head()"
   ]
  },
  {
   "cell_type": "markdown",
   "metadata": {},
   "source": [
    "# 2) Which are the top 3 months in terms of overall sales?"
   ]
  },
  {
   "cell_type": "code",
   "execution_count": 38,
   "metadata": {},
   "outputs": [],
   "source": [
    "data3=data2.groupby(by=data2.columns,axis=1).sum()\n",
    "total_sales_per_month=data3.sum(axis=0)"
   ]
  },
  {
   "cell_type": "code",
   "execution_count": 40,
   "metadata": {},
   "outputs": [
    {
     "data": {
      "text/plain": [
       "2020-03    20234570\n",
       "2019-12    19536270\n",
       "2020-01    19170099\n",
       "2020-04    19103472\n",
       "2020-07    18795771\n",
       "2020-05    18555947\n",
       "2020-06    18303531\n",
       "2019-10    18300108\n",
       "2020-02    17973457\n",
       "2019-11    17954015\n",
       "2019-09    17309331\n",
       "2019-08    16590204\n",
       "dtype: int64"
      ]
     },
     "execution_count": 40,
     "metadata": {},
     "output_type": "execute_result"
    }
   ],
   "source": [
    "total_sales_per_month.sort_values(ascending=False)"
   ]
  },
  {
   "cell_type": "markdown",
   "metadata": {},
   "source": [
    "# The top 3 months are:\n",
    "1.MARCH 2020\n",
    "\n",
    "\n",
    "2.DECEMBER 2019\n",
    "\n",
    "\n",
    "3.JANUARY 2019"
   ]
  },
  {
   "cell_type": "markdown",
   "metadata": {},
   "source": [
    "# 3) Which SKUs are outliers in terms sales in any month?"
   ]
  },
  {
   "cell_type": "code",
   "execution_count": 48,
   "metadata": {},
   "outputs": [
    {
     "data": {
      "text/plain": [
       "<matplotlib.axes._subplots.AxesSubplot at 0x1aa0f059c10>"
      ]
     },
     "execution_count": 48,
     "metadata": {},
     "output_type": "execute_result"
    },
    {
     "data": {
      "image/png": "[encoded data removed]",
      "text/plain": [
       "<Figure size 432x288 with 1 Axes>"
      ]
     },
     "metadata": {
      "needs_background": "light"
     },
     "output_type": "display_data"
    }
   ],
   "source": [
    "sns.boxplot(y=x['Monthly_average'])"
   ]
  },
  {
   "cell_type": "code",
   "execution_count": 44,
   "metadata": {},
   "outputs": [
    {
     "data": {
      "text/plain": [
       "count    2.470000e+02\n",
       "mean     7.484034e+04\n",
       "std      3.067301e+05\n",
       "min      3.050000e+01\n",
       "25%      6.972917e+02\n",
       "50%      3.406417e+03\n",
       "75%      3.929754e+04\n",
       "max      4.175261e+06\n",
       "Name: Monthly_average, dtype: float64"
      ]
     },
     "execution_count": 44,
     "metadata": {},
     "output_type": "execute_result"
    }
   ],
   "source": [
    "x['Monthly_average'].describe()"
   ]
  },
  {
   "cell_type": "code",
   "execution_count": null,
   "metadata": {},
   "outputs": [],
   "source": []
  }
 ],
 "metadata": {
  "kernelspec": {
   "display_name": "Python 3",
   "language": "python",
   "name": "python3"
  }
 },
 "nbformat": 4,
 "nbformat_minor": 4
}
